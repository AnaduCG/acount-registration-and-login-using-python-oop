{
 "cells": [
  {
   "cell_type": "code",
   "execution_count": 1,
   "metadata": {},
   "outputs": [
    {
     "name": "stdout",
     "output_type": "stream",
     "text": [
      "5\n"
     ]
    }
   ],
   "source": [
    "class MyClass:\n",
    "    x = 5\n",
    "\n",
    "\n",
    "p1 = MyClass().x\n",
    "print(p1.x)\n"
   ]
  },
  {
   "cell_type": "code",
   "execution_count": 14,
   "metadata": {},
   "outputs": [
    {
     "name": "stdout",
     "output_type": "stream",
     "text": [
      "Your name is  \n",
      "    and you are 12years old\n",
      "Process completed!\n"
     ]
    }
   ],
   "source": [
    "class Person:\n",
    "    def __init__(self, name, age):\n",
    "        self.name = name\n",
    "        self.age = age\n",
    "\n",
    "\n",
    "name = input('Enter your name: ')\n",
    "age = input('Enter your age: ')\n",
    "\n",
    "try:\n",
    "    p1 = Person(name, age)\n",
    "    del p1.age\n",
    "    print(f\"\"\"Your name is {p1.name} \n",
    "    and you are {p1.age}years old\"\"\")\n",
    "except (AttributeError):\n",
    "    print(\"Sorry user age have been deactivated\")\n",
    "finally:\n",
    "    print(\"Process completed!\")\n"
   ]
  },
  {
   "cell_type": "code",
   "execution_count": 26,
   "metadata": {},
   "outputs": [],
   "source": [
    "try:\n",
    "    class Person:\n",
    "        pass\n",
    "        \n",
    "except (SyntaxError, NameError):\n",
    "    print(\"code not completed for now\")\n"
   ]
  },
  {
   "cell_type": "code",
   "execution_count": 28,
   "metadata": {},
   "outputs": [
    {
     "name": "stdout",
     "output_type": "stream",
     "text": [
      "Anadu\n"
     ]
    }
   ],
   "source": [
    "\"\"\" inheritance in python \"\"\"\n",
    "\n",
    "class Student():\n",
    "    name = \"Anadu\"\n",
    "    age = 34\n",
    "    gender = 'male'\n",
    "\n",
    "class Person(Student):\n",
    "    pass\n",
    "p1 = Person()\n",
    "\n",
    "print(p1.name)"
   ]
  },
  {
   "cell_type": "code",
   "execution_count": 8,
   "metadata": {},
   "outputs": [
    {
     "name": "stdout",
     "output_type": "stream",
     "text": [
      "User Anadu successfuly created! 12345\n",
      "User Anadu successfuly loged in! 12345\n"
     ]
    }
   ],
   "source": [
    "class RegisterUser:\n",
    "    def __init__(self, name, password):\n",
    "        self.name = name\n",
    "        self.password = password\n",
    "\n",
    "    def registered(self):\n",
    "        print(f\"User {self.name} successfuly created! {self.password}\")\n",
    "        name2 = input('Enter your username')\n",
    "        pass2 = input('Enter User password')\n",
    "        if name2 == self.name and password == pass2:\n",
    "            return f\"User successfuly loged in as {name2}\"\n",
    "        else:\n",
    "            return \"invalid credentials\"\n",
    "\n",
    "\n",
    "name = input('Register a username')\n",
    "password = input('Create a password')\n",
    "\n",
    "p1 = RegisterUser(name, password)\n",
    "print(p1.registered())\n"
   ]
  }
 ],
 "metadata": {
  "kernelspec": {
   "display_name": "Python 3",
   "language": "python",
   "name": "python3"
  },
  "language_info": {
   "codemirror_mode": {
    "name": "ipython",
    "version": 3
   },
   "file_extension": ".py",
   "mimetype": "text/x-python",
   "name": "python",
   "nbconvert_exporter": "python",
   "pygments_lexer": "ipython3",
   "version": "3.11.0"
  },
  "orig_nbformat": 4,
  "vscode": {
   "interpreter": {
    "hash": "55d79064c9feea42e3a8cfbb2405178717b1dca6d0bc079cb76543bbdc9394ef"
   }
  }
 },
 "nbformat": 4,
 "nbformat_minor": 2
}
